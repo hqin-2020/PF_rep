{
 "cells": [
  {
   "cell_type": "code",
   "execution_count": 1,
   "id": "b5541e91",
   "metadata": {},
   "outputs": [],
   "source": [
    "import numpy as np\n",
    "import scipy as sp\n",
    "import pandas as pd\n",
    "import matplotlib.pyplot as plt\n",
    "import seaborn as sns\n",
    "import time\n",
    "from tqdm import tqdm\n",
    "import multiprocessing\n",
    "import pickle\n",
    "import os\n",
    "import psutil\n",
    "import gc\n",
    "import random\n",
    "from PF_Aso1_0_CPU import *"
   ]
  },
  {
   "cell_type": "code",
   "execution_count": 27,
   "id": "94781cbe",
   "metadata": {},
   "outputs": [
    {
     "name": "stdout",
     "output_type": "stream",
     "text": [
      "100%|██████████████████████████████████████| 100/100 [00:00<00:00, 37596.84it/s]\n",
      "1 0.1390838623046875\n",
      "2 0.13895797729492188\n",
      "3.2022480964660645\n",
      "  0%|                                                    | 0/10 [00:00<?, ?it/s]3 0.1392669677734375\n",
      "4 0.13559341430664062\n",
      "5 0.13607406616210938\n",
      "6 0.136077880859375\n",
      " 10%|████▍                                       | 1/10 [00:03<00:30,  3.44s/it]3 0.13611221313476562\n",
      "4 0.1358795166015625\n",
      "5 0.13610458374023438\n",
      "6 0.13610458374023438\n",
      " 20%|████████▊                                   | 2/10 [00:06<00:27,  3.38s/it]3 0.13612747192382812\n",
      "4 0.13615798950195312\n",
      "5 0.13623809814453125\n",
      "6 0.13623809814453125\n",
      " 30%|█████████████▏                              | 3/10 [00:10<00:23,  3.34s/it]3 0.13627243041992188\n",
      "4 0.13620376586914062\n",
      "5 0.13628768920898438\n",
      "6 0.13628768920898438\n",
      " 40%|█████████████████▌                          | 4/10 [00:13<00:20,  3.35s/it]3 0.13631439208984375\n",
      "4 0.13629531860351562\n",
      "5 0.13656997680664062\n",
      "6 0.13656234741210938\n",
      " 50%|██████████████████████                      | 5/10 [00:16<00:16,  3.33s/it]3 0.13659286499023438\n",
      "4 0.136505126953125\n",
      "5 0.13657379150390625\n",
      "6 0.13657379150390625\n",
      " 60%|██████████████████████████▍                 | 6/10 [00:19<00:13,  3.30s/it]3 0.1365966796875\n",
      "4 0.1364593505859375\n",
      "5 0.13654708862304688\n",
      "6 0.13654708862304688\n",
      " 70%|██████████████████████████████▊             | 7/10 [00:23<00:09,  3.29s/it]3 0.13657379150390625\n",
      "4 0.13652420043945312\n",
      "5 0.13644790649414062\n",
      "6 0.13644790649414062\n",
      " 80%|███████████████████████████████████▏        | 8/10 [00:26<00:06,  3.34s/it]3 0.13648223876953125\n",
      "4 0.136566162109375\n",
      "5 0.136627197265625\n",
      "6 0.136627197265625\n",
      " 90%|███████████████████████████████████████▌    | 9/10 [00:30<00:03,  3.35s/it]3 0.13665008544921875\n",
      "4 0.13650131225585938\n",
      "5 0.13673782348632812\n",
      "6 0.13672256469726562\n",
      "100%|███████████████████████████████████████████| 10/10 [00:33<00:00,  3.34s/it]\n",
      "Exception ignored in: <function Pool.__del__ at 0x7f7f2884eaf0>\n",
      "Traceback (most recent call last):\n",
      "  File \"/Users/haominqin/opt/anaconda3/lib/python3.9/multiprocessing/pool.py\", line 268, in __del__\n",
      "  File \"/Users/haominqin/opt/anaconda3/lib/python3.9/multiprocessing/queues.py\", line 372, in put\n",
      "AttributeError: 'NoneType' object has no attribute 'dumps'\n"
     ]
    }
   ],
   "source": [
    "!python Run_Aso1_0_CPU10006.py"
   ]
  },
  {
   "cell_type": "code",
   "execution_count": 37,
   "id": "b54700dd",
   "metadata": {},
   "outputs": [
    {
     "ename": "EOFError",
     "evalue": "Ran out of input",
     "output_type": "error",
     "traceback": [
      "\u001b[0;31m---------------------------------------------------------------------------\u001b[0m",
      "\u001b[0;31mEOFError\u001b[0m                                  Traceback (most recent call last)",
      "Input \u001b[0;32mIn [37]\u001b[0m, in \u001b[0;36m<cell line: 2>\u001b[0;34m()\u001b[0m\n\u001b[1;32m      1\u001b[0m outputdir_1 \u001b[38;5;241m=\u001b[39m outputdir \u001b[38;5;241m+\u001b[39m \u001b[38;5;124m'\u001b[39m\u001b[38;5;124m1/\u001b[39m\u001b[38;5;124m'\u001b[39m\n\u001b[1;32m      2\u001b[0m \u001b[38;5;28;01mwith\u001b[39;00m \u001b[38;5;28mopen\u001b[39m(outputdir_1 \u001b[38;5;241m+\u001b[39m \u001b[38;5;124m'\u001b[39m\u001b[38;5;124mθ_5.pkl\u001b[39m\u001b[38;5;124m'\u001b[39m, \u001b[38;5;124m'\u001b[39m\u001b[38;5;124mrb\u001b[39m\u001b[38;5;124m'\u001b[39m) \u001b[38;5;28;01mas\u001b[39;00m f:\n\u001b[0;32m----> 3\u001b[0m     θ_5 \u001b[38;5;241m=\u001b[39m \u001b[43mpickle\u001b[49m\u001b[38;5;241;43m.\u001b[39;49m\u001b[43mload\u001b[49m\u001b[43m(\u001b[49m\u001b[43mf\u001b[49m\u001b[43m)\u001b[49m\n\u001b[1;32m      4\u001b[0m θ_5\n",
      "\u001b[0;31mEOFError\u001b[0m: Ran out of input"
     ]
    }
   ],
   "source": [
    "outputdir_1 = outputdir + '1/'\n",
    "with open(outputdir_1 + 'θ_5.pkl', 'rb') as f:\n",
    "    θ_5 = pickle.load(f)\n",
    "θ_5"
   ]
  },
  {
   "cell_type": "code",
   "execution_count": 3,
   "id": "f9f93c7d",
   "metadata": {},
   "outputs": [],
   "source": [
    "seed = 6\n",
    "\n",
    "obs_series = pd.read_csv(datadir + 'data.csv', delimiter=',')\n",
    "obs_series = np.array(obs_series.iloc[:,1:]).T\n",
    "\n",
    "T = obs_series.shape[1]\n",
    "N = 1_0\n",
    "Λ_scale = 1.0\n",
    "cd_scale = 1.0\n",
    "\n",
    "case = 'actual data, seed = ' + str(seed) + ', T = ' + str(T) + ', N = ' + str(N) + ', Λ_scale = ' + str(Λ_scale) + ', cd_scale = ' + str(cd_scale)\n",
    "try: \n",
    "    casedir = outputdir + case  + '/'\n",
    "    os.mkdir(casedir)\n",
    "except:\n",
    "    casedir = outputdir + case  + '/'"
   ]
  },
  {
   "cell_type": "code",
   "execution_count": 22,
   "id": "fb9f70e4",
   "metadata": {},
   "outputs": [
    {
     "name": "stderr",
     "output_type": "stream",
     "text": [
      "100%|███████████████████████████████████████████████████████████████████████████████████████████████████████████████████████████████████████████████████████████████████| 10/10 [00:00<00:00, 2712.83it/s]\n"
     ]
    },
    {
     "name": "stdout",
     "output_type": "stream",
     "text": [
      "3.1981120109558105\n"
     ]
    },
    {
     "name": "stderr",
     "output_type": "stream",
     "text": [
      "100%|███████████████████████████████████████████████████████████████████████████████████████████████████████████████████████████████████████████████████████████████████████| 1/1 [00:02<00:00,  2.90s/it]\n"
     ]
    }
   ],
   "source": [
    "if __name__ == '__main__':\n",
    "    np.random.seed(seed)\n",
    "    start_time = time.time()\n",
    "\n",
    "    D_0 = obs_series[:,[0]]\n",
    "\n",
    "    Input_0 = [[D_0, Λ_scale, cd_scale, seed+i] for i in range(N)]\n",
    "    pool = multiprocessing.Pool()\n",
    "    Output_0 = pool.map(init, tqdm(Input_0))\n",
    "    θ_t_particle = [i[0] for i in Output_0]\n",
    "    X_t_particle = [i[1] for i in Output_0]\n",
    "    H_t_particle = [i[2] for i in Output_0]\n",
    "    \n",
    "    run_time = time.time() - start_time\n",
    "    print(run_time)    \n",
    "    for t in tqdm(range(1)):\n",
    "\n",
    "        D_t_next = obs_series[:,[t+1]]\n",
    "\n",
    "        Input = [[D_t_next, X_t_particle[i], H_t_particle[i], seed+t+i] for i in range(N)]\n",
    "        pool = multiprocessing.Pool()\n",
    "        Output = pool.map(recursive, Input)\n",
    "        θ_t_next_particle = [i[0] for i in Output]\n",
    "        X_t_next_particle = [i[1] for i in Output]\n",
    "        H_t_next_particle = [i[2] for i in Output]\n",
    "        ν_t_next_particle = [i[3] for i in Output]    \n",
    "\n",
    "        with open(casedir + 'θ_' + str(t+1) + '.pkl', 'wb') as f:\n",
    "            pickle.dump(θ_t_next_particle, f)\n",
    "\n",
    "        # with open(casedir + 'X_' + str(t+1) + '.pkl', 'wb') as f:\n",
    "        #     pickle.dump(X_t_next_particle, f)\n",
    "        # with open(casedir + 'H_' + str(t+1) + '.pkl', 'wb') as f:\n",
    "        #     pickle.dump(H_t_next_particle, f)\n",
    "\n",
    "        w_t_next = ν_t_next_particle/np.sum(ν_t_next_particle)\n",
    "\n",
    "        try:\n",
    "            count_all = sp.stats.multinomial.rvs(N, w_t_next)\n",
    "        except:\n",
    "            for i in range(w_t_next.shape[0]):\n",
    "                if w_t_next[i]>(np.sum(w_t_next[:-1]) - 1):\n",
    "                    w_t_next[i] = w_t_next[i] - (np.sum(w_t_next[:-1]) - 1)\n",
    "                    break\n",
    "            count_all = sp.stats.multinomial.rvs(N, w_t_next)\n",
    "\n",
    "        with open(casedir + 'w_' + str(t+1) + '.pkl', 'wb') as f:\n",
    "            pickle.dump(w_t_next, f)\n",
    "\n",
    "        with open(casedir + 'count_' + str(t+1) + '.pkl', 'wb') as f:\n",
    "            pickle.dump(count_all, f)\n",
    "\n",
    "        X_t_particle = []\n",
    "        H_t_particle = []\n",
    "\n",
    "        for i in range(N):\n",
    "            if count_all[i] != 0:\n",
    "                for n in range(count_all[i]):\n",
    "                    X_t_particle.append(X_t_next_particle[i])\n",
    "                    H_t_particle.append(H_t_next_particle[i])\n",
    "\n"
   ]
  },
  {
   "cell_type": "code",
   "execution_count": null,
   "id": "e1e7c97e",
   "metadata": {},
   "outputs": [],
   "source": []
  }
 ],
 "metadata": {
  "kernelspec": {
   "display_name": "Python 3 (ipykernel)",
   "language": "python",
   "name": "python3"
  },
  "language_info": {
   "codemirror_mode": {
    "name": "ipython",
    "version": 3
   },
   "file_extension": ".py",
   "mimetype": "text/x-python",
   "name": "python",
   "nbconvert_exporter": "python",
   "pygments_lexer": "ipython3",
   "version": "3.9.12"
  }
 },
 "nbformat": 4,
 "nbformat_minor": 5
}
